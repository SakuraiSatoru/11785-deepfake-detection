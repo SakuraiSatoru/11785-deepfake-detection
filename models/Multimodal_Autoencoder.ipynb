{
 "cells": [
  {
   "cell_type": "markdown",
   "metadata": {},
   "source": [
    "## Multimodal Autoencoder"
   ]
  },
  {
   "cell_type": "code",
   "execution_count": 1,
   "metadata": {},
   "outputs": [],
   "source": [
    "import time\n",
    "import torch\n",
    "import torch.nn as nn\n",
    "import scipy.sparse as sp\n",
    "import torch.optim as optim\n",
    "from torch.utils.data import Dataset, DataLoader"
   ]
  },
  {
   "cell_type": "code",
   "execution_count": null,
   "metadata": {},
   "outputs": [],
   "source": [
    "cuda = torch.cuda.is_available()\n",
    "device = torch.device(\"cuda\" if cuda else \"cpu\")"
   ]
  },
  {
   "cell_type": "code",
   "execution_count": null,
   "metadata": {},
   "outputs": [],
   "source": [
    "class MultimodalAutoencoder(nn.Module):\n",
    "    \"\"\"\n",
    "    Autoencoder for multi-modal data fusion. The purpose of the autoencoder\n",
    "    is to generate a hidden representation that correlates audio, video features \n",
    "    with the binary classification.\n",
    "    \"\"\"\n",
    "    ENCODER_HIDDEN = [2048, 1024]\n",
    "    DECODER_A_HIDDEN = [1024]\n",
    "    DECODER_V_HIDDEN = [1024]\n",
    "    CLASSIFIER = [512, 64, 2]\n",
    "    \n",
    "    def __init__(self, a_in_shape, v_in_shape, p_dropout)\n",
    "        super().__init__()\n",
    "        \n",
    "        self.a_in = a_in_shape[1]\n",
    "        self.v_in = v_in_shape[1]\n",
    "        self.activation = nn.ReLU6()\n",
    "        self.p_dropout = p_dropout\n",
    "        \n",
    "        encoder_layer_sizes = [self.a_in + self.v_in] + ENCODER_HIDDEN\n",
    "        decoder_a_layer_sizes = DECODER_A_HIDDEN + [self.a_in]\n",
    "        decoder_v_layer_sizes = DECODER_V_HIDDEN + [self.v_in]\n",
    "        classifier_layer_sizes = CLASSIFIER\n",
    "\n",
    "        self.encoder = nn.Sequential(*self.get_layers(encoder_layer_sizes, dropout=True))\n",
    "        self.decoder_a = nn.Sequential(*self.get_layers(decoder_a_layer_sizes))\n",
    "        self.decoder_v = nn.Sequential(*self.get_layers(decoder_v_layer_sizes))\n",
    "        self.classifier = nn.Sequential(*self.get_layers(classifier_layer_sizes))\n",
    "    \n",
    "    def get_layers(self, layer_sizes, dropout=False):\n",
    "        layers = []\n",
    "        if dropout: layers.append(nn.Dropout(self.p_dropout))\n",
    "        for i in range(len(layer_sizes)-1):\n",
    "            layers.append(nn.Linear(layer_sizes[i], layer_sizes[i+1]))\n",
    "            layers.append(self.activation)\n",
    "        return layers\n",
    "    \n",
    "    def forward(self, a_in, v_in):\n",
    "        x = torch.cat((a_in, v_in), 1)\n",
    "        x = self.encoder(x)\n",
    "        a_out = self.decoder_a(x)\n",
    "        v_out = self.decoder_v(x)\n",
    "        binary_out = self.classifier(x)\n",
    "        return a_out, v_out, binary_out"
   ]
  },
  {
   "cell_type": "code",
   "execution_count": null,
   "metadata": {},
   "outputs": [],
   "source": [
    "def loss(model_output, target, zeta):\n",
    "    a_in, v_in, binary_in = model_output\n",
    "    a_out, v_out, binary_out = target\n",
    "    \n",
    "    assert(a_in.shape == a_out.shape)\n",
    "    assert(v_in.shape == v_out.shape)\n",
    "    assert(binary_in.shape == binary_out.shape)\n",
    "    \n",
    "    a_loss = nn.MSELoss(a_in, a_out)\n",
    "    v_loss = nn.MSELoss(v_in, v_out)\n",
    "    binary_loss = nn.BCELoss(binary_in, binary_out)\n",
    "    \n",
    "    return (a_loss + v_loss)*(1-zeta) + binary_loss*zeta"
   ]
  }
 ],
 "metadata": {
  "kernelspec": {
   "display_name": "Environment (conda_pytorch_p36)",
   "language": "python",
   "name": "conda_pytorch_p36"
  },
  "language_info": {
   "codemirror_mode": {
    "name": "ipython",
    "version": 3
   },
   "file_extension": ".py",
   "mimetype": "text/x-python",
   "name": "python",
   "nbconvert_exporter": "python",
   "pygments_lexer": "ipython3",
   "version": "3.6.5"
  }
 },
 "nbformat": 4,
 "nbformat_minor": 2
}
